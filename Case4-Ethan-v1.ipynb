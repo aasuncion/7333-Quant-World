{
 "cells": [
  {
   "cell_type": "markdown",
   "metadata": {},
   "source": [
    "## MSDS 7333 – Unit 4 Case Study\n",
    "Albert Asuncion, Brian Lee, Ethan Graham, Melina Shulyak"
   ]
  },
  {
   "cell_type": "markdown",
   "metadata": {},
   "source": [
    "__Notebook setup__"
   ]
  },
  {
   "cell_type": "markdown",
   "metadata": {},
   "source": [
    "## Abstract\n",
    "Time series analysis enables predictive and retrodictive insights into phenomena that can be measured across intervals of time. We use the frontier signal analysis to decide the future contract rolling strategy for an investor."
   ]
  },
  {
   "cell_type": "code",
   "execution_count": 4,
   "metadata": {
    "collapsed": true
   },
   "outputs": [],
   "source": [
    "from __future__ import division\n",
    "from pandas import Series, DataFrame\n",
    "import pandas as pd\n",
    "from numpy.random import randn\n",
    "import numpy as np\n",
    "import os\n",
    "pd.options.display.max_rows = 12\n",
    "np.set_printoptions(precision=4, suppress=True)\n",
    "import matplotlib.pyplot as plt\n",
    "plt.rc('figure', figsize=(12, 6))"
   ]
  },
  {
   "cell_type": "markdown",
   "metadata": {},
   "source": [
    "## Introduction"
   ]
  },
  {
   "cell_type": "code",
   "execution_count": 5,
   "metadata": {
    "collapsed": true
   },
   "outputs": [],
   "source": [
    "%matplotlib inline"
   ]
  },
  {
   "cell_type": "code",
   "execution_count": 10,
   "metadata": {},
   "outputs": [
    {
     "data": {
      "text/html": [
       "<div>\n",
       "<style>\n",
       "    .dataframe thead tr:only-child th {\n",
       "        text-align: right;\n",
       "    }\n",
       "\n",
       "    .dataframe thead th {\n",
       "        text-align: left;\n",
       "    }\n",
       "\n",
       "    .dataframe tbody tr th {\n",
       "        vertical-align: top;\n",
       "    }\n",
       "</style>\n",
       "<table border=\"1\" class=\"dataframe\">\n",
       "  <thead>\n",
       "    <tr style=\"text-align: right;\">\n",
       "      <th></th>\n",
       "      <th>Open</th>\n",
       "      <th>High</th>\n",
       "      <th>Low</th>\n",
       "      <th>Close</th>\n",
       "      <th>Adj Close</th>\n",
       "      <th>Volume</th>\n",
       "    </tr>\n",
       "    <tr>\n",
       "      <th>Date</th>\n",
       "      <th></th>\n",
       "      <th></th>\n",
       "      <th></th>\n",
       "      <th></th>\n",
       "      <th></th>\n",
       "      <th></th>\n",
       "    </tr>\n",
       "  </thead>\n",
       "  <tbody>\n",
       "    <tr>\n",
       "      <th>1999-03-10</th>\n",
       "      <td>51.125000</td>\n",
       "      <td>51.156250</td>\n",
       "      <td>50.281250</td>\n",
       "      <td>51.062500</td>\n",
       "      <td>45.371433</td>\n",
       "      <td>5232000</td>\n",
       "    </tr>\n",
       "    <tr>\n",
       "      <th>1999-03-11</th>\n",
       "      <td>51.437500</td>\n",
       "      <td>51.734348</td>\n",
       "      <td>50.312500</td>\n",
       "      <td>51.312500</td>\n",
       "      <td>45.593571</td>\n",
       "      <td>9688600</td>\n",
       "    </tr>\n",
       "    <tr>\n",
       "      <th>1999-03-12</th>\n",
       "      <td>51.125000</td>\n",
       "      <td>51.156250</td>\n",
       "      <td>49.656250</td>\n",
       "      <td>50.062500</td>\n",
       "      <td>44.482883</td>\n",
       "      <td>8743600</td>\n",
       "    </tr>\n",
       "    <tr>\n",
       "      <th>1999-03-15</th>\n",
       "      <td>50.437500</td>\n",
       "      <td>51.562500</td>\n",
       "      <td>49.906250</td>\n",
       "      <td>51.500000</td>\n",
       "      <td>45.760174</td>\n",
       "      <td>6369000</td>\n",
       "    </tr>\n",
       "    <tr>\n",
       "      <th>1999-03-16</th>\n",
       "      <td>51.718750</td>\n",
       "      <td>52.156250</td>\n",
       "      <td>51.156250</td>\n",
       "      <td>51.937500</td>\n",
       "      <td>46.148914</td>\n",
       "      <td>4905800</td>\n",
       "    </tr>\n",
       "    <tr>\n",
       "      <th>1999-03-17</th>\n",
       "      <td>51.937500</td>\n",
       "      <td>52.000000</td>\n",
       "      <td>51.406250</td>\n",
       "      <td>51.562500</td>\n",
       "      <td>45.815712</td>\n",
       "      <td>3965000</td>\n",
       "    </tr>\n",
       "    <tr>\n",
       "      <th>...</th>\n",
       "      <td>...</td>\n",
       "      <td>...</td>\n",
       "      <td>...</td>\n",
       "      <td>...</td>\n",
       "      <td>...</td>\n",
       "      <td>...</td>\n",
       "    </tr>\n",
       "    <tr>\n",
       "      <th>2017-12-21</th>\n",
       "      <td>157.750000</td>\n",
       "      <td>158.250000</td>\n",
       "      <td>157.369995</td>\n",
       "      <td>157.550003</td>\n",
       "      <td>157.294815</td>\n",
       "      <td>18638700</td>\n",
       "    </tr>\n",
       "    <tr>\n",
       "      <th>2017-12-22</th>\n",
       "      <td>157.309998</td>\n",
       "      <td>157.429993</td>\n",
       "      <td>156.949997</td>\n",
       "      <td>157.369995</td>\n",
       "      <td>157.115097</td>\n",
       "      <td>23330400</td>\n",
       "    </tr>\n",
       "    <tr>\n",
       "      <th>2017-12-26</th>\n",
       "      <td>156.490005</td>\n",
       "      <td>156.720001</td>\n",
       "      <td>155.949997</td>\n",
       "      <td>156.520004</td>\n",
       "      <td>156.266495</td>\n",
       "      <td>21918700</td>\n",
       "    </tr>\n",
       "    <tr>\n",
       "      <th>2017-12-27</th>\n",
       "      <td>156.529999</td>\n",
       "      <td>156.960007</td>\n",
       "      <td>156.389999</td>\n",
       "      <td>156.539993</td>\n",
       "      <td>156.286453</td>\n",
       "      <td>22388200</td>\n",
       "    </tr>\n",
       "    <tr>\n",
       "      <th>2017-12-28</th>\n",
       "      <td>157.039993</td>\n",
       "      <td>157.070007</td>\n",
       "      <td>156.539993</td>\n",
       "      <td>156.729996</td>\n",
       "      <td>156.476135</td>\n",
       "      <td>25393800</td>\n",
       "    </tr>\n",
       "    <tr>\n",
       "      <th>2017-12-29</th>\n",
       "      <td>156.869995</td>\n",
       "      <td>156.899994</td>\n",
       "      <td>155.699997</td>\n",
       "      <td>155.759995</td>\n",
       "      <td>155.507706</td>\n",
       "      <td>33186000</td>\n",
       "    </tr>\n",
       "  </tbody>\n",
       "</table>\n",
       "<p>4735 rows × 6 columns</p>\n",
       "</div>"
      ],
      "text/plain": [
       "                  Open        High         Low       Close   Adj Close  \\\n",
       "Date                                                                     \n",
       "1999-03-10   51.125000   51.156250   50.281250   51.062500   45.371433   \n",
       "1999-03-11   51.437500   51.734348   50.312500   51.312500   45.593571   \n",
       "1999-03-12   51.125000   51.156250   49.656250   50.062500   44.482883   \n",
       "1999-03-15   50.437500   51.562500   49.906250   51.500000   45.760174   \n",
       "1999-03-16   51.718750   52.156250   51.156250   51.937500   46.148914   \n",
       "1999-03-17   51.937500   52.000000   51.406250   51.562500   45.815712   \n",
       "...                ...         ...         ...         ...         ...   \n",
       "2017-12-21  157.750000  158.250000  157.369995  157.550003  157.294815   \n",
       "2017-12-22  157.309998  157.429993  156.949997  157.369995  157.115097   \n",
       "2017-12-26  156.490005  156.720001  155.949997  156.520004  156.266495   \n",
       "2017-12-27  156.529999  156.960007  156.389999  156.539993  156.286453   \n",
       "2017-12-28  157.039993  157.070007  156.539993  156.729996  156.476135   \n",
       "2017-12-29  156.869995  156.899994  155.699997  155.759995  155.507706   \n",
       "\n",
       "              Volume  \n",
       "Date                  \n",
       "1999-03-10   5232000  \n",
       "1999-03-11   9688600  \n",
       "1999-03-12   8743600  \n",
       "1999-03-15   6369000  \n",
       "1999-03-16   4905800  \n",
       "1999-03-17   3965000  \n",
       "...              ...  \n",
       "2017-12-21  18638700  \n",
       "2017-12-22  23330400  \n",
       "2017-12-26  21918700  \n",
       "2017-12-27  22388200  \n",
       "2017-12-28  25393800  \n",
       "2017-12-29  33186000  \n",
       "\n",
       "[4735 rows x 6 columns]"
      ]
     },
     "execution_count": 10,
     "metadata": {},
     "output_type": "execute_result"
    }
   ],
   "source": [
    "#Read data\n",
    "close_px = pd.read_csv(os.path.join('data','QQQ.csv'), parse_dates=True, index_col=0)"
   ]
  },
  {
   "cell_type": "code",
   "execution_count": null,
   "metadata": {
    "collapsed": true
   },
   "outputs": [],
   "source": [
    "close_px"
   ]
  },
  {
   "cell_type": "markdown",
   "metadata": {},
   "source": [
    "## Literature Review\n",
    "https://www.youtube.com/watch?v=73RMlTVGCUc"
   ]
  },
  {
   "cell_type": "markdown",
   "metadata": {},
   "source": [
    "## Background"
   ]
  },
  {
   "cell_type": "markdown",
   "metadata": {
    "collapsed": true
   },
   "source": [
    "## Methods"
   ]
  },
  {
   "cell_type": "markdown",
   "metadata": {},
   "source": [
    "## Future Work, Discussion, Conclusions and Next Steps\n",
    "https://www.trade-ideas.com/DOSA/\n",
    "https://www.investopedia.com/articles/financial-theory/10/gaussian-models-statistics.asp\n",
    "https://sites.tufts.edu/eeseniordesignhandbook/2015/signal-processing-in-finance/\n",
    "https://en.wikipedia.org/wiki/Stochastic_frontier_analysis\n",
    "https://www.amazon.com/dp/0471463078/?tag=stackoverflow17-20\n",
    "\n",
    "p. 348"
   ]
  },
  {
   "cell_type": "markdown",
   "metadata": {
    "collapsed": true
   },
   "source": [
    "## Appendix – SAS Code"
   ]
  },
  {
   "cell_type": "code",
   "execution_count": null,
   "metadata": {
    "collapsed": true
   },
   "outputs": [],
   "source": []
  }
 ],
 "metadata": {
  "kernelspec": {
   "display_name": "Python 2",
   "language": "python",
   "name": "python2"
  },
  "language_info": {
   "codemirror_mode": {
    "name": "ipython",
    "version": 2
   },
   "file_extension": ".py",
   "mimetype": "text/x-python",
   "name": "python",
   "nbconvert_exporter": "python",
   "pygments_lexer": "ipython2",
   "version": "2.7.13"
  }
 },
 "nbformat": 4,
 "nbformat_minor": 2
}
