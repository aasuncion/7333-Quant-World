{
 "cells": [
  {
   "cell_type": "markdown",
   "metadata": {},
   "source": [
    "# MSDS 7333 – Unit 4 Case Study\n",
    "Albert Asuncion, Brian Lee, Ethan Graham, Melina Shulyak"
   ]
  },
  {
   "cell_type": "markdown",
   "metadata": {},
   "source": [
    "## Abstract\n",
    "Time series analysis enables predictive and retrodictive insights into phenomena that can be measured across intervals of time. We use frontier signal analysis to decide the future contract rolling strategy for an investor on the Powershares QQQ exchange traded fund."
   ]
  },
  {
   "cell_type": "markdown",
   "metadata": {},
   "source": [
    "## Introduction"
   ]
  },
  {
   "cell_type": "markdown",
   "metadata": {},
   "source": [
    "#### History and Origin of Futures.\n",
    "Futures trading evolved out of the need for buyers and sellers of goods to mitigate price volatility uncertainty of market conditions when the goods and commodities are ready for delivery, and the counterparty risks inherent between parties to a transaction. When a producer of grain expects his crops to grow to maturity at a future time, his foremost concern is a price he can plan for and come harvest the assurance of a buyer for his crop. Thus in 1948, as the Great Lakes became linked to the Mississippi River via railroad and the Illinois-Michigan canal, the Chicago Board of Trade (CBOT) was formed.\n",
    "\n",
    "The CBOT provided a mechanism to stabilize prices and regulate trade through the establishment of a grain exchange. It devised and facilitated the trading of futures contracts: “legally binding agreements to buy and sell a standardized asset on a specific date”. Futures contracts are indispensable instruments behind all trade which have the following key features [1]:\n",
    "\n",
    "- Standardized contract  - Making contract specifications identical across participants allows for trading these instruments easily transferable. As a result, the only variable is price, everything else such as the quality, quantity, physical delivery time and location are stipulated but standardized for all participants.\n",
    "- Exchange-traded - By establishing an exchange, counterpart risks are eliminated and parties have assurance that contracts are backed up by the exchange. Buyers and sellers transact anonymously on a platform where they are brought together to operate with ease in a highly liquid and optimized market.\n",
    "\n",
    "#### Workings of a Trade.\n",
    "In a futures contract, the \"forward price\" is predeterimed for a time in the future, hence the coloquial term \"futures\" to refer to the trading of these derivative products. In other words, buyer and seller agree on a future price based on both speculating that upon time of settlement, i.e. delivery date, the instrument will yield a profit. \n",
    "The market's \"invisible hand\" establishes the optimum price that provides sellers a hedge against price risk and speculators seeking to make a profit by predicting the price direction [2]. Upon expiration of a contract, a futures trader has 3 options [1]:\n",
    "<ol>\n",
    "<li> Settlement - The most obvious course of action is for the trader who is selling (short position) to deliver the asset and/or for the buyer (long position) to pay cash. </li>\n",
    "<li> Rollover - In rollover, the trader opts to offset an expiring current position for a new position in the next contract month. </li>\n",
    "<li> Offset the Position - The trader takes and equal and opposite transaction to neutralize te trade.</li>\n",
    "</ol>"
   ]
  },
  {
   "cell_type": "markdown",
   "metadata": {},
   "source": [
    "# Literature Review"
   ]
  },
  {
   "cell_type": "markdown",
   "metadata": {},
   "source": [
    "__The Purpose of Time Series.__\n",
    "Time series analysis is the evaluation of any structured form of data that falls with a certain measure of time. With financial data the objective is to create the ability to make an inference by applying some form of algorithm to determine the potential outcome of an investment over a finite period. The options for the analysis method can vary by case. For example, for a series of data where volatility is not immediately apparent, time series analysis can provide some additional insight. Often as a result of different modeling strategies and practices to either reduce error, determine correlations, risk, and various other methods depending on the use case and the domain knowledge required to assess. A list of broad categories of analysis examples include, but are not limited to the following [6]:\n",
    "\n",
    "- Regression models\n",
    "- Long-Memory models\n",
    "- Nonlinear models and tests\n",
    "- Continuous-time models\n",
    "- Multivariate time series analysis\n",
    "\n",
    "__Time Series, Futures, and PowerShares QQQ ETF.__ For the purpose of this case study we observe specifically from PowerShares QQQ Trust ETF. Originally established from the Nasdaq-100 Index, PowerShares QQQ ETF Trust have high profile technology companies such as Intel, Facebook, Microsoft, Apple, etc. amongst the companies with major holdings within the portfolio. As a result, there is inherent currency risk due to foreign currency exchange rates with QQQ. However, QQQ is an excellent option for investors who have interest in holding technology companies stock without having to invest all within a single tech company [7].\n",
    "\n",
    "Futures rolling contracts, can be a viable option to mitigate risk. To mitigate that risk, a strategy will incorporate multiple contracts, depending on the overall roll yield, also accounting for the roll cost of futures. Selection of multiple different ETFs to manage the resulting costs and mitigate for what is termed, “contango,” the state at which longer-dated contracts more expensive than shorter term contracts[8]. However, in this case study PowerShares QQQ ETF Trust will be evaluated to determine if the ETL will return a positive yield to determine if investment will result in a positive yield."
   ]
  },
  {
   "cell_type": "markdown",
   "metadata": {},
   "source": [
    "# Background"
   ]
  },
  {
   "cell_type": "markdown",
   "metadata": {},
   "source": [
    "__What's an ETF?__ ETFs or Exchange-trade funds have been around since 1993 but they started being used significantly in 2003. We can think of an ETF as a form of an index fund as it shares the same goals, providing investors with a benchmark return with minimal cost. Unlike Index funds, which are very costly to trade, ETFs often trade commission-free."
   ]
  },
  {
   "cell_type": "markdown",
   "metadata": {},
   "source": [
    "__What's QQQ?__ For this analysis, we decided to the use the powershares QQQ widely held and traded exchange-traded fund that tracks the Nasdaq 100 Index, which is compose of 100 of the lasgest international and domestic companies, excluding financial companies, that are listed on the Nasdaq stock exchange, based on market capitalization. This means that QQQ is weighted towards large-cap technology companies giving us a great picture or snapshot of how the technology sector is trading.\n",
    "\n",
    "QQQ is rebalanced quarterly and reconstituded annually, tracking the information technology, health care, consumer discretionary, consumer staples, industrial and communication services sectors.\n",
    "\n",
    "\n",
    "As of Feb. 14, 2018, the sector breakdown of QQQ was [3]: \n",
    "\n",
    "* Information technology: 60.44%\n",
    "* Consumer discretionary: 22.38%\n",
    "* Health care: 9.85%\n",
    "* Consumer staples: 4.42%\n",
    "* Industrials: 2.1%\n",
    "* Telecommunication services 0.81%\n",
    "\n",
    "The top 10 holdings of QQQ, as of Feb. 14, 2018, were:\n",
    "\n",
    "* Apple (AAPL): 11.25%\n",
    "* Microsoft (MSFT): 9.17%\n",
    "* Amazon.com (AMZN): 9.15%\n",
    "* Facebook (FB): 5.6%\n",
    "* Alphabet (GOOG) Class C shares: 4.89%\n",
    "* Alphabet (GOOGL) Class A shares: 4.19%\n",
    "* Intel (INTC): 2.78%\n",
    "* Cisco Systems (CSCO): 2.72%\n",
    "* Comcast (CMCSA): 2.41%\n",
    "* NVIDIA (NVDA): 1.92%\n",
    "\n",
    "Apple with 11.25%, has a market cap of $900 billions, one of largest market cap in history, it's one of the most important company for the QQQ investors.\n"
   ]
  },
  {
   "cell_type": "markdown",
   "metadata": {},
   "source": [
    "## Future Contract Rolling application"
   ]
  },
  {
   "cell_type": "markdown",
   "metadata": {},
   "source": [
    "__Preparation for Analysis.__ Using the Pandas, Numpy, datetime, and Pyplot modules, analysis will be performed by the leveraging the cabilities of the APIs to pull PowerShares QQQ ETF data from May 1, 2018 to May 1, 2018."
   ]
  },
  {
   "cell_type": "code",
   "execution_count": 1,
   "metadata": {
    "collapsed": true
   },
   "outputs": [],
   "source": [
    "from __future__ import division\n",
    "from pandas import Series, DataFrame\n",
    "import pandas as pd\n",
    "from numpy.random import randn\n",
    "import numpy as np\n",
    "pd.options.display.max_rows = 12\n",
    "np.set_printoptions(precision=4, suppress=True)\n",
    "import matplotlib.pyplot as plt\n",
    "plt.rc('figure', figsize=(12, 6))"
   ]
  },
  {
   "cell_type": "code",
   "execution_count": 2,
   "metadata": {
    "collapsed": true
   },
   "outputs": [],
   "source": [
    "%matplotlib inline"
   ]
  },
  {
   "cell_type": "code",
   "execution_count": 3,
   "metadata": {
    "collapsed": true
   },
   "outputs": [],
   "source": [
    "pd.options.display.max_rows = 10"
   ]
  },
  {
   "cell_type": "markdown",
   "metadata": {},
   "source": [
    "We will use scaled prices for the QQQ exchange-traded fund as a proxy for the S&P 500 index:"
   ]
  },
  {
   "cell_type": "code",
   "execution_count": 6,
   "metadata": {},
   "outputs": [
    {
     "name": "stdout",
     "output_type": "stream",
     "text": [
      "2y\n"
     ]
    },
    {
     "data": {
      "text/plain": [
       "date\n",
       "2017-05-01    1360.219\n",
       "2017-05-02    1362.500\n",
       "2017-05-03    1358.137\n",
       "2017-05-04    1358.633\n",
       "2017-05-05    1363.590\n",
       "                ...   \n",
       "2018-04-25    1586.500\n",
       "2018-04-26    1619.900\n",
       "2018-04-27    1620.900\n",
       "2018-04-30    1609.400\n",
       "2018-05-01    1627.800\n",
       "Name: close, Length: 253, dtype: float64"
      ]
     },
     "execution_count": 6,
     "metadata": {},
     "output_type": "execute_result"
    }
   ],
   "source": [
    "import pandas_datareader.data as web\n",
    "# Approximate price of S&P 500 index. Load 1 year of QQQ closing price data starting May, 2017\n",
    "px = web.DataReader('QQQ','iex','2017-05-01','2018-05-01')['close'] * 10\n",
    "px"
   ]
  },
  {
   "cell_type": "markdown",
   "metadata": {},
   "source": [
    "## Data Description\n",
    "Using the `pandas_datareader` API, data is fetched from The Investors Exchange (IEX). The IEX returns historical data for up to 5 years prior, and includes daily data for opening price, high and low price on the day, closing price, and volume. This analysis is only concerned with closing prices.\n",
    "Our Future contract analysis uses the QQQ price data at close time with a start date of May, 1<sup>st</sup> 2017, and an end date of May 1<sup>st</sup>, 2018.\n",
    "The results will be loaded into a Python Pandas new dataframe `px`.\n",
    "The plot below shows the closing price over time, and reveals a general upward trend."
   ]
  },
  {
   "cell_type": "code",
   "execution_count": 7,
   "metadata": {},
   "outputs": [
    {
     "data": {
      "image/png": "[encoded data removed]",
      "text/plain": [
       "<matplotlib.figure.Figure at 0x10b83ac10>"
      ]
     },
     "metadata": {},
     "output_type": "display_data"
    }
   ],
   "source": [
    "px.plot(title=\"QQQ Closing Prices\")\n",
    "pass"
   ]
  },
  {
   "cell_type": "markdown",
   "metadata": {},
   "source": [
    "# Methods"
   ]
  },
  {
   "cell_type": "markdown",
   "metadata": {},
   "source": [
    "__Setting Expiry Dates.__ To determine the weighting for the time series data for our projected furtures, we set an expiry date for the futures of September 21, 2018 to December 21, 2018."
   ]
  },
  {
   "cell_type": "code",
   "execution_count": 8,
   "metadata": {},
   "outputs": [
    {
     "data": {
      "text/plain": [
       "ESU2   2018-09-21\n",
       "ESZ2   2018-12-21\n",
       "dtype: datetime64[ns]"
      ]
     },
     "execution_count": 8,
     "metadata": {},
     "output_type": "execute_result"
    }
   ],
   "source": [
    "from datetime import datetime\n",
    "expiry = Series({'ESU2': datetime(2018, 9, 21), 'ESZ2': datetime(2018, 12, 21)}).sort_values()\n",
    "expiry"
   ]
  },
  {
   "cell_type": "markdown",
   "metadata": {},
   "source": [
    "__Random Walk.__ Random walk is then added to account for the unknown prediction of upcoming stock prices in the code snippet below."
   ]
  },
  {
   "cell_type": "code",
   "execution_count": 9,
   "metadata": {
    "collapsed": true
   },
   "outputs": [],
   "source": [
    "np.random.seed(12347)\n",
    "N = 200\n",
    "walk = (np.random.randint(0, 200, size=N) - 100) * 0.25\n",
    "perturb = (np.random.randint(0, 20, size=N) - 10) * 0.25\n",
    "walk = walk.cumsum()\n",
    "\n",
    "rng = pd.date_range(px.index[0], periods=len(px) + N, freq='B')\n",
    "near = np.concatenate([px.values, px.values[-1] + walk])\n",
    "far = np.concatenate([px.values, px.values[-1] + walk + perturb])\n",
    "prices = DataFrame({'ESU2': near, 'ESZ2': far}, index=rng)"
   ]
  },
  {
   "cell_type": "code",
   "execution_count": 10,
   "metadata": {},
   "outputs": [
    {
     "data": {
      "text/html": [
       "<div>\n",
       "<style>\n",
       "    .dataframe thead tr:only-child th {\n",
       "        text-align: right;\n",
       "    }\n",
       "\n",
       "    .dataframe thead th {\n",
       "        text-align: left;\n",
       "    }\n",
       "\n",
       "    .dataframe tbody tr th {\n",
       "        vertical-align: top;\n",
       "    }\n",
       "</style>\n",
       "<table border=\"1\" class=\"dataframe\">\n",
       "  <thead>\n",
       "    <tr style=\"text-align: right;\">\n",
       "      <th></th>\n",
       "      <th>ESU2</th>\n",
       "      <th>ESZ2</th>\n",
       "    </tr>\n",
       "  </thead>\n",
       "  <tbody>\n",
       "    <tr>\n",
       "      <th>2019-01-17</th>\n",
       "      <td>1657.05</td>\n",
       "      <td>1658.80</td>\n",
       "    </tr>\n",
       "    <tr>\n",
       "      <th>2019-01-18</th>\n",
       "      <td>1643.30</td>\n",
       "      <td>1645.55</td>\n",
       "    </tr>\n",
       "    <tr>\n",
       "      <th>2019-01-21</th>\n",
       "      <td>1651.30</td>\n",
       "      <td>1653.05</td>\n",
       "    </tr>\n",
       "    <tr>\n",
       "      <th>2019-01-22</th>\n",
       "      <td>1667.80</td>\n",
       "      <td>1667.05</td>\n",
       "    </tr>\n",
       "    <tr>\n",
       "      <th>2019-01-23</th>\n",
       "      <td>1647.80</td>\n",
       "      <td>1645.55</td>\n",
       "    </tr>\n",
       "  </tbody>\n",
       "</table>\n",
       "</div>"
      ],
      "text/plain": [
       "               ESU2     ESZ2\n",
       "2019-01-17  1657.05  1658.80\n",
       "2019-01-18  1643.30  1645.55\n",
       "2019-01-21  1651.30  1653.05\n",
       "2019-01-22  1667.80  1667.05\n",
       "2019-01-23  1647.80  1645.55"
      ]
     },
     "execution_count": 10,
     "metadata": {},
     "output_type": "execute_result"
    }
   ],
   "source": [
    "prices.tail()"
   ]
  },
  {
   "cell_type": "code",
   "execution_count": 11,
   "metadata": {
    "collapsed": true
   },
   "outputs": [],
   "source": [
    "def get_roll_weights(start, expiry, items, roll_periods=5):\n",
    "    # start : first date to compute weighting DataFrame\n",
    "    # expiry : Series of ticker -> expiration dates\n",
    "    # items : sequence of contract names\n",
    "\n",
    "    dates = pd.date_range(start, expiry[-1], freq='B')\n",
    "    weights = DataFrame(np.zeros((len(dates), len(items))),\n",
    "                        index=dates, columns=items)\n",
    "\n",
    "    prev_date = weights.index[0]\n",
    "    for i, (item, ex_date) in enumerate(expiry.iteritems()):\n",
    "        if i < len(expiry) - 1:\n",
    "            weights.ix[prev_date:ex_date - pd.offsets.BDay(), item] = 1\n",
    "            roll_rng = pd.date_range(end=ex_date - pd.offsets.BDay(),\n",
    "                                     periods=roll_periods + 1, freq='B')\n",
    "\n",
    "            decay_weights = np.linspace(0, 1, roll_periods + 1)\n",
    "            weights.ix[roll_rng, item] = 1 - decay_weights\n",
    "            weights.ix[roll_rng, expiry.index[i + 1]] = decay_weights\n",
    "        else:\n",
    "            weights.ix[prev_date:, item] = 1\n",
    "\n",
    "        prev_date = ex_date\n",
    "\n",
    "    return weights"
   ]
  },
  {
   "cell_type": "markdown",
   "metadata": {},
   "source": [
    "In order to model a decision to rollover, settle, or offset a position, the cumulative return from current contract positions is calculated as follows:\n",
    "\n",
    "> __RolloverReturn = PctChangeInPrice * Weight__\n",
    "\n",
    "where __PctChangeInPrice__ is the incremental change in the daily average closing price;\n",
    "and __Weight__ is a value that starts from 1 at the beginning of the the contract term and *decaying* to 0 as the contract approaches expiration.\n",
    "\n",
    "When the cumulative sum of the __RolloverReturn__ over the life of a contract is greater thatn or equal to 0, we liquidate the *near* contract position to break-even or realize some gain. A negative would indicate a losing position and a decision to rollover to the *far* contract."
   ]
  },
  {
   "cell_type": "code",
   "execution_count": 12,
   "metadata": {},
   "outputs": [
    {
     "name": "stderr",
     "output_type": "stream",
     "text": [
      "/anaconda/lib/python2.7/site-packages/ipykernel_launcher.py:13: DeprecationWarning: \n",
      ".ix is deprecated. Please use\n",
      ".loc for label based indexing or\n",
      ".iloc for positional indexing\n",
      "\n",
      "See the documentation here:\n",
      "http://pandas.pydata.org/pandas-docs/stable/indexing.html#deprecate_ix\n",
      "  del sys.path[0]\n"
     ]
    }
   ],
   "source": [
    "weights = get_roll_weights('6/1/2018', expiry, prices.columns)"
   ]
  },
  {
   "cell_type": "markdown",
   "metadata": {},
   "source": [
    "To illustrate how the rollover return is calculated, we take the weights for each contract the last 10 days leading up to the ESU2 expiry date of 9/21/2018. Since ESU2 expires on 9/21/2018, the weight decays from a value of 1 to a value of 0 at expiration. ESZ2 doesn't expire until 12/21/2018 and therefore carries a weight of 1."
   ]
  },
  {
   "cell_type": "code",
   "execution_count": 13,
   "metadata": {},
   "outputs": [
    {
     "data": {
      "text/html": [
       "<div>\n",
       "<style>\n",
       "    .dataframe thead tr:only-child th {\n",
       "        text-align: right;\n",
       "    }\n",
       "\n",
       "    .dataframe thead th {\n",
       "        text-align: left;\n",
       "    }\n",
       "\n",
       "    .dataframe tbody tr th {\n",
       "        vertical-align: top;\n",
       "    }\n",
       "</style>\n",
       "<table border=\"1\" class=\"dataframe\">\n",
       "  <thead>\n",
       "    <tr style=\"text-align: right;\">\n",
       "      <th></th>\n",
       "      <th>ESU2</th>\n",
       "      <th>ESZ2</th>\n",
       "    </tr>\n",
       "  </thead>\n",
       "  <tbody>\n",
       "    <tr>\n",
       "      <th>2018-09-10</th>\n",
       "      <td>1.0</td>\n",
       "      <td>0.0</td>\n",
       "    </tr>\n",
       "    <tr>\n",
       "      <th>2018-09-11</th>\n",
       "      <td>1.0</td>\n",
       "      <td>0.0</td>\n",
       "    </tr>\n",
       "    <tr>\n",
       "      <th>2018-09-12</th>\n",
       "      <td>1.0</td>\n",
       "      <td>0.0</td>\n",
       "    </tr>\n",
       "    <tr>\n",
       "      <th>2018-09-13</th>\n",
       "      <td>1.0</td>\n",
       "      <td>0.0</td>\n",
       "    </tr>\n",
       "    <tr>\n",
       "      <th>2018-09-14</th>\n",
       "      <td>0.8</td>\n",
       "      <td>0.2</td>\n",
       "    </tr>\n",
       "    <tr>\n",
       "      <th>2018-09-17</th>\n",
       "      <td>0.6</td>\n",
       "      <td>0.4</td>\n",
       "    </tr>\n",
       "    <tr>\n",
       "      <th>2018-09-18</th>\n",
       "      <td>0.4</td>\n",
       "      <td>0.6</td>\n",
       "    </tr>\n",
       "    <tr>\n",
       "      <th>2018-09-19</th>\n",
       "      <td>0.2</td>\n",
       "      <td>0.8</td>\n",
       "    </tr>\n",
       "    <tr>\n",
       "      <th>2018-09-20</th>\n",
       "      <td>0.0</td>\n",
       "      <td>1.0</td>\n",
       "    </tr>\n",
       "    <tr>\n",
       "      <th>2018-09-21</th>\n",
       "      <td>0.0</td>\n",
       "      <td>1.0</td>\n",
       "    </tr>\n",
       "  </tbody>\n",
       "</table>\n",
       "</div>"
      ],
      "text/plain": [
       "            ESU2  ESZ2\n",
       "2018-09-10   1.0   0.0\n",
       "2018-09-11   1.0   0.0\n",
       "2018-09-12   1.0   0.0\n",
       "2018-09-13   1.0   0.0\n",
       "2018-09-14   0.8   0.2\n",
       "2018-09-17   0.6   0.4\n",
       "2018-09-18   0.4   0.6\n",
       "2018-09-19   0.2   0.8\n",
       "2018-09-20   0.0   1.0\n",
       "2018-09-21   0.0   1.0"
      ]
     },
     "execution_count": 13,
     "metadata": {},
     "output_type": "execute_result"
    }
   ],
   "source": [
    "weights.loc['2018-09-10':'2018-9-21']"
   ]
  },
  {
   "cell_type": "markdown",
   "metadata": {},
   "source": []
  },
  {
   "cell_type": "code",
   "execution_count": 33,
   "metadata": {},
   "outputs": [
    {
     "data": {
      "text/html": [
       "<div>\n",
       "<style>\n",
       "    .dataframe thead tr:only-child th {\n",
       "        text-align: right;\n",
       "    }\n",
       "\n",
       "    .dataframe thead th {\n",
       "        text-align: left;\n",
       "    }\n",
       "\n",
       "    .dataframe tbody tr th {\n",
       "        vertical-align: top;\n",
       "    }\n",
       "</style>\n",
       "<table border=\"1\" class=\"dataframe\">\n",
       "  <thead>\n",
       "    <tr style=\"text-align: right;\">\n",
       "      <th></th>\n",
       "      <th>ESU2</th>\n",
       "      <th>ESZ2</th>\n",
       "    </tr>\n",
       "  </thead>\n",
       "  <tbody>\n",
       "    <tr>\n",
       "      <th>2018-09-10</th>\n",
       "      <td>0.003088</td>\n",
       "      <td>0.004029</td>\n",
       "    </tr>\n",
       "    <tr>\n",
       "      <th>2018-09-11</th>\n",
       "      <td>0.000000</td>\n",
       "      <td>0.000535</td>\n",
       "    </tr>\n",
       "    <tr>\n",
       "      <th>2018-09-12</th>\n",
       "      <td>-0.009100</td>\n",
       "      <td>-0.008958</td>\n",
       "    </tr>\n",
       "    <tr>\n",
       "      <th>2018-09-13</th>\n",
       "      <td>-0.007293</td>\n",
       "      <td>-0.009309</td>\n",
       "    </tr>\n",
       "    <tr>\n",
       "      <th>2018-09-14</th>\n",
       "      <td>-0.007347</td>\n",
       "      <td>-0.005311</td>\n",
       "    </tr>\n",
       "    <tr>\n",
       "      <th>2018-09-17</th>\n",
       "      <td>-0.004797</td>\n",
       "      <td>-0.005613</td>\n",
       "    </tr>\n",
       "    <tr>\n",
       "      <th>2018-09-18</th>\n",
       "      <td>-0.013359</td>\n",
       "      <td>-0.013630</td>\n",
       "    </tr>\n",
       "    <tr>\n",
       "      <th>2018-09-19</th>\n",
       "      <td>0.013400</td>\n",
       "      <td>0.013540</td>\n",
       "    </tr>\n",
       "    <tr>\n",
       "      <th>2018-09-20</th>\n",
       "      <td>0.013361</td>\n",
       "      <td>0.014323</td>\n",
       "    </tr>\n",
       "    <tr>\n",
       "      <th>2018-09-21</th>\n",
       "      <td>0.003262</td>\n",
       "      <td>0.001765</td>\n",
       "    </tr>\n",
       "  </tbody>\n",
       "</table>\n",
       "</div>"
      ],
      "text/plain": [
       "                ESU2      ESZ2\n",
       "2018-09-10  0.003088  0.004029\n",
       "2018-09-11  0.000000  0.000535\n",
       "2018-09-12 -0.009100 -0.008958\n",
       "2018-09-13 -0.007293 -0.009309\n",
       "2018-09-14 -0.007347 -0.005311\n",
       "2018-09-17 -0.004797 -0.005613\n",
       "2018-09-18 -0.013359 -0.013630\n",
       "2018-09-19  0.013400  0.013540\n",
       "2018-09-20  0.013361  0.014323\n",
       "2018-09-21  0.003262  0.001765"
      ]
     },
     "execution_count": 33,
     "metadata": {},
     "output_type": "execute_result"
    }
   ],
   "source": [
    "prices.pct_change().loc['2018-09-10':'2018-9-21']"
   ]
  },
  {
   "cell_type": "code",
   "execution_count": 13,
   "metadata": {
    "collapsed": true
   },
   "outputs": [],
   "source": [
    "rolled_returns = (prices.pct_change() * weights).sum(1)"
   ]
  },
  {
   "cell_type": "code",
   "execution_count": 25,
   "metadata": {},
   "outputs": [
    {
     "data": {
      "text/plain": [
       "2018-09-10    0.003088\n",
       "2018-09-11    0.000000\n",
       "2018-09-12   -0.009100\n",
       "2018-09-13   -0.007293\n",
       "2018-09-14   -0.006940\n",
       "2018-09-17   -0.005123\n",
       "2018-09-18   -0.013522\n",
       "2018-09-19    0.013512\n",
       "2018-09-20    0.014323\n",
       "2018-09-21    0.001765\n",
       "Freq: B, dtype: float64"
      ]
     },
     "execution_count": 25,
     "metadata": {},
     "output_type": "execute_result"
    }
   ],
   "source": [
    "rolled_returns.loc['2018-09-10':'2018-09-21']"
   ]
  },
  {
   "cell_type": "markdown",
   "metadata": {},
   "source": [
    "## Results"
   ]
  },
  {
   "cell_type": "code",
   "execution_count": 35,
   "metadata": {},
   "outputs": [
    {
     "data": {
      "text/plain": [
       "0.0341983406061801"
      ]
     },
     "execution_count": 35,
     "metadata": {},
     "output_type": "execute_result"
    }
   ],
   "source": [
    "rolled_returns.loc['2018-06-1':'2018-9-21'].sum()"
   ]
  },
  {
   "cell_type": "code",
   "execution_count": 26,
   "metadata": {},
   "outputs": [
    {
     "data": {
      "text/plain": [
       "-0.11226466169990001"
      ]
     },
     "execution_count": 26,
     "metadata": {},
     "output_type": "execute_result"
    }
   ],
   "source": [
    "rolled_returns.loc['2018-09-10':'2018-12-21'].sum()"
   ]
  },
  {
   "cell_type": "markdown",
   "metadata": {},
   "source": [
    "*Results text placeholder*"
   ]
  },
  {
   "cell_type": "markdown",
   "metadata": {},
   "source": [
    "## Future Work/Discussion/Conclusion"
   ]
  },
  {
   "cell_type": "markdown",
   "metadata": {},
   "source": [
    "#### Other Ways to calculate weights\n",
    "<p>Some other aproaches that we found while doing our research about rolling future contracts and possible mechanisms to identify or generate weights in python was the \"Rolling on Volume or present interest\" which with the perpetual method, identify the roll date as the first day where volume of the far contract exceeds volume of the near contract, adjust the prices of the previous sessions ( last 3 or 4 sessions) to rill date by weithing the near and far contracts in increments and decrements of X% amount [4]. It looks like a very interested concept that we will like to try in future projects.</p>\n",
    "<p>Futures analysis is an open ended problem, and there are many other ways to look at this data. We could consider using exponensial decay for the weights, instead of linear. That would increase the effect of prices ending close to the contract expiry date.</p>\n",
    "<p>We could add gaussian volatility modeling into the weight distribution by looking at the frequency of closing prices along a rolling time window. This would tell us the standard deviation, skewness, and kurtosis of the distribution of closing prices. The kurtosis would inform us whether the ETF was in a high or low volatility period [5].</p>"
   ]
  },
  {
   "cell_type": "markdown",
   "metadata": {},
   "source": [
    "*Conclusion text placeholder*"
   ]
  },
  {
   "cell_type": "markdown",
   "metadata": {},
   "source": [
    "### Bibliography\n",
    "<ol>\n",
    "<li>https://institute.cmegroup.com/courses/introduction-to-futures-html</li>\n",
    "<li>https://en.wikipedia.org/wiki/Futures_contract</li>\n",
    "<li>https://www.investopedia.com/ask/answers/061715/what-qqq-etf.asp</li>\n",
    "<li>https://www.premiumdata.net/support/futurescontinuous.php</li>\n",
    "<li>https://www.investopedia.com/articles/financial-theory/10/gaussian-models-statistics.asp</li>\n",
    "<li>https://books.google.com/books?id=ddL4tTLb_08C&printsec=frontcover#v=onepage&q&f=false</li>\n",
    "<li>https://www.investopedia.com/articles/markets/011516/qqq-powershares-qqq-trust-etf.asp</li>\n",
    "<li>http://www.etf.com/publications/etfr/options-futures-etfs-oh-my?nopaging=1</li>\n",
    "</ol>"
   ]
  },
  {
   "cell_type": "code",
   "execution_count": null,
   "metadata": {
    "collapsed": true
   },
   "outputs": [],
   "source": []
  }
 ],
 "metadata": {
  "kernelspec": {
   "display_name": "Python 2",
   "language": "python",
   "name": "python2"
  },
  "language_info": {
   "codemirror_mode": {
    "name": "ipython",
    "version": 2
   },
   "file_extension": ".py",
   "mimetype": "text/x-python",
   "name": "python",
   "nbconvert_exporter": "python",
   "pygments_lexer": "ipython2",
   "version": "2.7.14"
  }
 },
 "nbformat": 4,
 "nbformat_minor": 2
}
