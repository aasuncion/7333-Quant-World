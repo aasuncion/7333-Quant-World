{
 "cells": [
  {
   "cell_type": "markdown",
   "metadata": {},
   "source": [
    "## MSDS 7333 – Unit 4 Case Study\n",
    "Albert Asuncion, Brian Lee, Ethan Graham, Melina Shulyak"
   ]
  },
  {
   "cell_type": "markdown",
   "metadata": {},
   "source": [
    "Assignment: Financial Applications of Time Series<br>\n",
    "* Choose either the Signal Frontier Analysis application or Future Contract Rolling application.\n",
    "* Use different stocks than those shown in examples.\n",
    "* Create iPython Notebook, including code, output, and graphics.\n",
    "* Include an introduction in your notebook to give background on your application.\n",
    "* Be sure to explain calculations and output in the appropriate places.\n",
    "* List outside references if used.<br>\n",
    "\n",
    "Formatting<br>\n",
    "\n",
    "Case study write-ups are to be “technical report ready,” which basically means that the write-up is suitable for public viewing.\n",
    "\n",
    "* Your name must be at the beginning of the notebook.\n",
    "* The notebook should divided into an abstract, an introduction, a methods section, a results section, and a future work/discussion/conclusion section.\n",
    "* Use an easy-to-read variable-width font (I like Ariel, Helvetica, and Geneva font) with a minimum of 11 point font.\n",
    "* Relevant code and output must be explained in the notebook as close to the code/output as possible.\n",
    "* Any graphics generated using the code must be explained in the notebook as close to the graphic as possible."
   ]
  },
  {
   "cell_type": "markdown",
   "metadata": {},
   "source": [
    "__Abstract__"
   ]
  },
  {
   "cell_type": "markdown",
   "metadata": {},
   "source": [
    "*Abstract text placeholder*"
   ]
  },
  {
   "cell_type": "markdown",
   "metadata": {},
   "source": [
    "__Introduction__"
   ]
  },
  {
   "cell_type": "markdown",
   "metadata": {},
   "source": [
    "__History and Origin of Futures.__\n",
    "Futures trading evolved out of the need for buyers and sellers of goods to mitigate against price volatility and the counterparty risks inherent between parties to a transaction. When a producer of grain expects his crops to grow to maturity at a future time, his foremost concern is a price he can plan for and come harvest the assurance of a buyer for his crop. Thus in 1948, as the Great Lakes became linked to the Mississippi River via railroad and the Illinois-Michigan canal, the Chicago Board of Trade (CBOT) was formed. \n",
    "\n",
    "The CBOT provided a mechanism to stabilize prices and regulate trade through the establishment of a grain exchange. It devised and facilitated the trading of futures contracts which were “legally binding agreements to buy and sell a standardized asset on a specific date”. Futures contracts are indispensable instruments behind all trade which have the following key features [1]:\n",
    "\n",
    "- Standardized contract  - Making contract specifications identical across participants allows for trading these instruments easily transferable. As a result, the only variable is price, everything else such as the quality, quantity, physical delivery time and location are stipulated but standardized for all participants.\n",
    "- Exchange-traded - By establishing an exchange, counterpart risks are eliminated and parties have assurance that contracts are backed up by the exchange. Buyers and sellers transact anonymously on a platform where they are brought together to operate with ease in a highly liquid and optimized market.\n",
    "\n",
    "__Workings of a Trade.__ In a futures contract, the \"forward price\" is predeterimed for a time in the future, hence the coloquial term \"futures\" to refer to the trading of these derivative products. In other words, buyer and seller agree on a future price based on both speculating that upon time of settlement, i.e. delivery date, the instrument will yield a profit. \n",
    "The market's \"invisible hand\" establishes the optimum price that provides sellers a hedge against price risk and speculators seeking to make a profit by predicting the price direction [2]. Upon expiration of a contract, a futures trader has 3 options [1]:\n",
    "\n",
    "1. Settlement - The most obvious course of action is for the trader who is selling (short position) to deliver the asset and/or for the buyer (long position) to pay cash. \n",
    "2. Rollover - In rollover, the trader opts to offset an expiring current position for a new position in the next contract month. \n",
    "3. Offset the Position - The trader takes and equal and opposite transaction to neutralize te trade."
   ]
  },
  {
   "cell_type": "markdown",
   "metadata": {},
   "source": [
    "__Notebook setup__"
   ]
  },
  {
   "cell_type": "code",
   "execution_count": 15,
   "metadata": {},
   "outputs": [],
   "source": [
    "from __future__ import division\n",
    "from pandas import Series, DataFrame\n",
    "import pandas as pd\n",
    "from numpy.random import randn\n",
    "import numpy as np\n",
    "pd.options.display.max_rows = 12\n",
    "np.set_printoptions(precision=4, suppress=True)\n",
    "import matplotlib.pyplot as plt\n",
    "plt.rc('figure', figsize=(12, 6))"
   ]
  },
  {
   "cell_type": "code",
   "execution_count": 5,
   "metadata": {
    "collapsed": true
   },
   "outputs": [],
   "source": [
    "%matplotlib inline"
   ]
  },
  {
   "cell_type": "code",
   "execution_count": 6,
   "metadata": {},
   "outputs": [
    {
     "data": {
      "text/plain": [
       "'/Users/albertasuncion_mac/Documents/SMU/7333 - Quantifying the World/Github/7333-Quant-World'"
      ]
     },
     "execution_count": 6,
     "metadata": {},
     "output_type": "execute_result"
    }
   ],
   "source": [
    "%pwd"
   ]
  },
  {
   "cell_type": "code",
   "execution_count": 1,
   "metadata": {},
   "outputs": [
    {
     "ename": "ImportError",
     "evalue": "The pandas.io.data module is moved to a separate package (pandas-datareader). After installing the pandas-datareader package (https://github.com/pydata/pandas-datareader), you can change the import ``from pandas.io import data, wb`` to ``from pandas_datareader import data, wb``.",
     "output_type": "error",
     "traceback": [
      "\u001b[1;31m\u001b[0m",
      "\u001b[1;31mImportError\u001b[0mTraceback (most recent call last)",
      "\u001b[1;32m<ipython-input-1-7352a945c04a>\u001b[0m in \u001b[0;36m<module>\u001b[1;34m()\u001b[0m\n\u001b[1;32m----> 1\u001b[1;33m \u001b[1;32mimport\u001b[0m \u001b[0mpandas\u001b[0m\u001b[1;33m.\u001b[0m\u001b[0mio\u001b[0m\u001b[1;33m.\u001b[0m\u001b[0mdata\u001b[0m \u001b[1;32mas\u001b[0m \u001b[0mweb\u001b[0m\u001b[1;33m\u001b[0m\u001b[0m\n\u001b[0m\u001b[0;32m      2\u001b[0m \u001b[0mdata\u001b[0m \u001b[1;33m=\u001b[0m \u001b[0mweb\u001b[0m\u001b[1;33m.\u001b[0m\u001b[0mget_data_yahoo\u001b[0m\u001b[1;33m(\u001b[0m\u001b[1;34m'SPY'\u001b[0m\u001b[1;33m,\u001b[0m \u001b[1;34m'2018-01-01'\u001b[0m\u001b[1;33m)\u001b[0m\u001b[1;33m\u001b[0m\u001b[0m\n\u001b[0;32m      3\u001b[0m \u001b[0mdata\u001b[0m\u001b[1;33m\u001b[0m\u001b[0m\n",
      "\u001b[1;32mC:\\Users\\thisi\\Anaconda2\\lib\\site-packages\\pandas\\io\\data.py\u001b[0m in \u001b[0;36m<module>\u001b[1;34m()\u001b[0m\n\u001b[0;32m      1\u001b[0m raise ImportError(\n\u001b[1;32m----> 2\u001b[1;33m     \u001b[1;34m\"The pandas.io.data module is moved to a separate package \"\u001b[0m\u001b[1;33m\u001b[0m\u001b[0m\n\u001b[0m\u001b[0;32m      3\u001b[0m     \u001b[1;34m\"(pandas-datareader). After installing the pandas-datareader package \"\u001b[0m\u001b[1;33m\u001b[0m\u001b[0m\n\u001b[0;32m      4\u001b[0m     \u001b[1;34m\"(https://github.com/pydata/pandas-datareader), you can change \"\u001b[0m\u001b[1;33m\u001b[0m\u001b[0m\n\u001b[0;32m      5\u001b[0m     \u001b[1;34m\"the import ``from pandas.io import data, wb`` to \"\u001b[0m\u001b[1;33m\u001b[0m\u001b[0m\n",
      "\u001b[1;31mImportError\u001b[0m: The pandas.io.data module is moved to a separate package (pandas-datareader). After installing the pandas-datareader package (https://github.com/pydata/pandas-datareader), you can change the import ``from pandas.io import data, wb`` to ``from pandas_datareader import data, wb``."
     ]
    }
   ],
   "source": [
    "#import pandas.io.data as web\n",
    "import pandas_datareader.data as web\n",
    "data = web.get_data_yahoo('SPY', '2018-01-01')\n",
    "data"
   ]
  },
  {
   "cell_type": "markdown",
   "metadata": {},
   "source": [
    "__Methods__"
   ]
  },
  {
   "cell_type": "markdown",
   "metadata": {},
   "source": [
    "*Methods text placeholder*"
   ]
  },
  {
   "cell_type": "markdown",
   "metadata": {},
   "source": [
    "__Results__"
   ]
  },
  {
   "cell_type": "markdown",
   "metadata": {},
   "source": [
    "*Results text placeholder*"
   ]
  },
  {
   "cell_type": "markdown",
   "metadata": {},
   "source": [
    "__Future Work/Discussion/Conclusion__"
   ]
  },
  {
   "cell_type": "markdown",
   "metadata": {},
   "source": [
    "*Conclusion text placeholder*"
   ]
  },
  {
   "cell_type": "markdown",
   "metadata": {},
   "source": [
    "__Bibliiography__"
   ]
  },
  {
   "cell_type": "markdown",
   "metadata": {},
   "source": [
    "[1] https://institute.cmegroup.com/courses/introduction-to-futures-html<br>\n",
    "[2] https://en.wikipedia.org/wiki/Futures_contract"
   ]
  },
  {
   "cell_type": "code",
   "execution_count": null,
   "metadata": {
    "collapsed": true
   },
   "outputs": [],
   "source": []
  }
 ],
 "metadata": {
  "kernelspec": {
   "display_name": "Python 2",
   "language": "python",
   "name": "python2"
  },
  "language_info": {
   "codemirror_mode": {
    "name": "ipython",
    "version": 2
   },
   "file_extension": ".py",
   "mimetype": "text/x-python",
   "name": "python",
   "nbconvert_exporter": "python",
   "pygments_lexer": "ipython2",
   "version": "2.7.14"
  }
 },
 "nbformat": 4,
 "nbformat_minor": 2
}
